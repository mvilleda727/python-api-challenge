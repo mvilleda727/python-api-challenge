


# Dependencies and Setup
import hvplot.pandas
import pandas as pd
import requests

# Import API key
from api_keys import geoapify_key


# Load the CSV file created in Part 1 into a Pandas DataFrame
city_data_df = pd.read_csv("output_data/cities.csv")

# Display sample data
city_data_df.head()





%%capture --no-display

# Configure the map plot
map_plot = city_data_df.hvplot.points(
    x='Lng',        # Update with the actual column name for longitude
    y='Lat',        # Update with the actual column name for latitude
    size='Humidity',  # Replace with the actual column name for humidity
    geo=True,       # Enable geographic plotting
    tiles='OSM',    # Use OpenStreetMap tiles
    color='blue',   
    title='City Humidity Map')

# Display the map
map_plot





# Narrow down cities that fit criteria and drop any results with null values
filtered_cities = city_data_df[
    (city_data_df['Max Temp'] >= 20) & (city_data_df['Max Temp'] <= 25) & 
    (city_data_df['Humidity'] < 50)  
]
# Drop any rows with null values
filtered_cities = filtered_cities.dropna()

# Display sample data
filtered_cities





# Use the Pandas copy function to create DataFrame called hotel_df to store the city, country, coordinates, and humidity
hotel_df = filtered_cities[['City','Country','Lat', 'Lng','Humidity']].copy()

# Add an empty column, "Hotel Name," to the DataFrame so you can store the hotel found using the Geoapify API
hotel_df['Hotel Name'] = ''  # Initialize the column with empty strings

# Display sample data
hotel_df





# Set parameters to search for a hotel
radius = 10,000
params = {
    # YOUR CODE HERE
}

# Print a message to follow up the hotel search
print("Starting hotel search")

# Iterate through the hotel_df DataFrame
for index, row in hotel_df.iterrows():
    # get latitude, longitude from the DataFrame
    # YOUR CODE HERE

    # Add the current city's latitude and longitude to the params dictionary
    params["filter"] = # YOUR CODE HERE
    params["bias"] = # YOUR CODE HERE

    # Set base URL
    base_url = "https://api.geoapify.com/v2/places"

    # Make and API request using the params dictionary
    name_address = # YOUR CODE HERE

    # Convert the API response to JSON format
    name_address = # YOUR CODE HERE

    # Grab the first hotel from the results and store the name in the hotel_df DataFrame
    try:
        hotel_df.loc[index, "Hotel Name"] = name_address["features"][0]["properties"]["name"]
    except (KeyError, IndexError):
        # If no hotel is found, set the hotel name as "No hotel found".
        hotel_df.loc[index, "Hotel Name"] = "No hotel found"

    # Log the search results
    print(f"{hotel_df.loc[index, 'City']} - nearest hotel: {hotel_df.loc[index, 'Hotel Name']}")

# Display sample data
hotel_df





%%capture --no-display

# Configure the map plot
hotel_map_plot = hotel_df.hvplot.points(
    'Lng', 
    'Lat', 
    geo=True, 
    tiles='EsriImagery', 
    frame_width=800, 
    frame_height=600, 
    size='Humidity',
    scale=0.5, 
    color='City', 
    hover_cols=['Hotel Name', 'Country'])

# Display the map
hotel_map_plot



